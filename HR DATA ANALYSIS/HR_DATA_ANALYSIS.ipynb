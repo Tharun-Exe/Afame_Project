{
  "nbformat": 4,
  "nbformat_minor": 0,
  "metadata": {
    "colab": {
      "provenance": []
    },
    "kernelspec": {
      "name": "python3",
      "display_name": "Python 3"
    },
    "language_info": {
      "name": "python"
    }
  },
  "cells": [
    {
      "cell_type": "code",
      "execution_count": null,
      "metadata": {
        "colab": {
          "base_uri": "https://localhost:8080/"
        },
        "id": "07WKloVlEbwV",
        "outputId": "d5649985-1a50-4f7e-eb4f-759f913094a9"
      },
      "outputs": [
        {
          "output_type": "stream",
          "name": "stdout",
          "text": [
            "Requirement already satisfied: pandas in /usr/local/lib/python3.10/dist-packages (2.1.4)\n",
            "Requirement already satisfied: numpy<2,>=1.22.4 in /usr/local/lib/python3.10/dist-packages (from pandas) (1.26.4)\n",
            "Requirement already satisfied: python-dateutil>=2.8.2 in /usr/local/lib/python3.10/dist-packages (from pandas) (2.8.2)\n",
            "Requirement already satisfied: pytz>=2020.1 in /usr/local/lib/python3.10/dist-packages (from pandas) (2024.1)\n",
            "Requirement already satisfied: tzdata>=2022.1 in /usr/local/lib/python3.10/dist-packages (from pandas) (2024.1)\n",
            "Requirement already satisfied: six>=1.5 in /usr/local/lib/python3.10/dist-packages (from python-dateutil>=2.8.2->pandas) (1.16.0)\n"
          ]
        }
      ],
      "source": [
        "!pip install pandas"
      ]
    },
    {
      "cell_type": "code",
      "source": [
        "import pandas as pd\n",
        "\n",
        "def cleanse_hr_data(file_path, output_path):\n",
        "    # Load the data\n",
        "    hr_data = pd.read_csv(file_path)\n",
        "\n",
        "    # Step 1: Removing Unnecessary Columns\n",
        "    columns_to_remove = ['EmployeeCount', 'EmployeeNumber', 'StandardHours', 'Over18']\n",
        "    hr_data_cleaned = hr_data.drop(columns=columns_to_remove)\n",
        "\n",
        "    # Step 2: Renaming Columns for better readability\n",
        "    columns_rename = {\n",
        "        'Attrition': 'Left',\n",
        "        'BusinessTravel': 'TravelFrequency',\n",
        "        'DailyRate': 'DailySalary',\n",
        "        'DistanceFromHome': 'CommuteDistance',\n",
        "        'EducationField': 'FieldOfEducation',\n",
        "        'JobRole': 'Position',\n",
        "        'MonthlyIncome': 'MonthlySalary',\n",
        "        'MonthlyRate': 'MonthlyBilling',\n",
        "        'NumCompaniesWorked': 'PreviousCompanies',\n",
        "        'PercentSalaryHike': 'SalaryHikePercentage',\n",
        "        'TotalWorkingYears': 'TotalExperience',\n",
        "        'TrainingTimesLastYear': 'TrainingsLastYear',\n",
        "        'WorkLifeBalance': 'WorkLifeScore',\n",
        "        'YearsAtCompany': 'Tenure',\n",
        "        'YearsInCurrentRole': 'CurrentRoleTenure',\n",
        "        'YearsSinceLastPromotion': 'YearsSincePromotion',\n",
        "        'YearsWithCurrManager': 'ManagerTenure'\n",
        "    }\n",
        "    hr_data_cleaned = hr_data_cleaned.rename(columns=columns_rename)\n",
        "\n",
        "    # Step 3: Eliminating Redundant Entries\n",
        "    hr_data_cleaned = hr_data_cleaned.drop_duplicates()\n",
        "\n",
        "    # Step 4: Sanitizing Specific Columns\n",
        "    string_columns = hr_data_cleaned.select_dtypes(include='object').columns\n",
        "    hr_data_cleaned[string_columns] = hr_data_cleaned[string_columns].apply(lambda x: x.str.strip().str.title())\n",
        "\n",
        "    # Step 5: Eliminating NaN Values\n",
        "    hr_data_cleaned = hr_data_cleaned.dropna()\n",
        "\n",
        "    # Save the cleaned data to a new CSV file\n",
        "    hr_data_cleaned.to_csv(output_path, index=False)\n",
        "\n",
        "    return hr_data_cleaned\n",
        "\n",
        "# Example usage\n",
        "input_file_path = '/content/HR Data.csv'  # Make sure this file is in the same directory or provide full path\n",
        "output_file_path = 'Cleaned_HR_Data.csv'\n",
        "cleaned_data = cleanse_hr_data(input_file_path, output_file_path)\n",
        "\n",
        "# Display the first few rows of the cleaned data\n",
        "print(cleaned_data.head())\n"
      ],
      "metadata": {
        "colab": {
          "base_uri": "https://localhost:8080/"
        },
        "id": "YUJdyJJ3HWf2",
        "outputId": "36eb245c-eb0e-4e75-a813-3ff6038d5ccd"
      },
      "execution_count": null,
      "outputs": [
        {
          "output_type": "stream",
          "name": "stdout",
          "text": [
            "   Age Left    TravelFrequency  DailySalary              Department  \\\n",
            "0   41  Yes      Travel_Rarely         1102                   Sales   \n",
            "1   49   No  Travel_Frequently          279  Research & Development   \n",
            "2   37  Yes      Travel_Rarely         1373  Research & Development   \n",
            "3   33   No  Travel_Frequently         1392  Research & Development   \n",
            "4   27   No      Travel_Rarely          591  Research & Development   \n",
            "\n",
            "   CommuteDistance  Education FieldOfEducation  EnvironmentSatisfaction  \\\n",
            "0                1          2    Life Sciences                        2   \n",
            "1                8          1    Life Sciences                        3   \n",
            "2                2          2            Other                        4   \n",
            "3                3          4    Life Sciences                        4   \n",
            "4                2          1          Medical                        1   \n",
            "\n",
            "   Gender  ...  PerformanceRating  RelationshipSatisfaction  StockOptionLevel  \\\n",
            "0  Female  ...                  3                         1                 0   \n",
            "1    Male  ...                  4                         4                 1   \n",
            "2    Male  ...                  3                         2                 0   \n",
            "3  Female  ...                  3                         3                 0   \n",
            "4    Male  ...                  3                         4                 1   \n",
            "\n",
            "  TotalExperience  TrainingsLastYear WorkLifeScore  Tenure  CurrentRoleTenure  \\\n",
            "0               8                  0             1       6                  4   \n",
            "1              10                  3             3      10                  7   \n",
            "2               7                  3             3       0                  0   \n",
            "3               8                  3             3       8                  7   \n",
            "4               6                  3             3       2                  2   \n",
            "\n",
            "   YearsSincePromotion ManagerTenure  \n",
            "0                    0             5  \n",
            "1                    1             7  \n",
            "2                    0             0  \n",
            "3                    3             0  \n",
            "4                    2             2  \n",
            "\n",
            "[5 rows x 31 columns]\n"
          ]
        }
      ]
    },
    {
      "cell_type": "code",
      "source": [
        "!python clean_hr_data.py"
      ],
      "metadata": {
        "colab": {
          "base_uri": "https://localhost:8080/"
        },
        "id": "AfLuAwjrJpwJ",
        "outputId": "cef12873-f0be-457b-f732-b1b545ea0d0f"
      },
      "execution_count": null,
      "outputs": [
        {
          "output_type": "stream",
          "name": "stdout",
          "text": [
            "python3: can't open file '/content/clean_hr_data.py': [Errno 2] No such file or directory\n"
          ]
        }
      ]
    }
  ]
}